{
 "metadata": {
  "language_info": {
   "codemirror_mode": {
    "name": "ipython",
    "version": 3
   },
   "file_extension": ".py",
   "mimetype": "text/x-python",
   "name": "python",
   "nbconvert_exporter": "python",
   "pygments_lexer": "ipython3",
   "version": "3.6.7-final"
  },
  "orig_nbformat": 2,
  "kernelspec": {
   "name": "python3",
   "display_name": "Python 3"
  }
 },
 "nbformat": 4,
 "nbformat_minor": 2,
 "cells": [
  {
   "cell_type": "code",
   "execution_count": 5,
   "metadata": {},
   "outputs": [
    {
     "output_type": "stream",
     "name": "stdout",
     "text": [
      "Value stored is:  1\n",
      "Value stored is:  2\n",
      "Exiting thread with value: Exiting thread with value:  1\n",
      " 2\n"
     ]
    }
   ],
   "source": [
    "import threading\n",
    "import time\n",
    "\n",
    "class MyThread(threading.Thread):\n",
    "  # overriding constructor\n",
    "  def __init__(self, i):\n",
    "    # calling parent class constructor\n",
    "    threading.Thread.__init__(self)\n",
    "    self.x = i\n",
    "    \n",
    "  # define your own run method\n",
    "  def run(self):\n",
    "    print(\"Value stored is: \", self.x)\n",
    "    time.sleep(3)\n",
    "    print(  \"Exiting thread with value: \", self.x)\n",
    "    \n",
    "\n",
    "thread1 = MyThread(1)\n",
    "thread1.start()\n",
    "thread2 = MyThread(2)\n",
    "thread2.start()\n",
    "thread1.join()\n",
    "thread2.join()"
   ]
  },
  {
   "cell_type": "code",
   "execution_count": 1,
   "metadata": {},
   "outputs": [],
   "source": [
    "from MasterNode.ServerComm.NewConnectionThread import *"
   ]
  },
  {
   "cell_type": "code",
   "execution_count": 2,
   "metadata": {},
   "outputs": [
    {
     "output_type": "stream",
     "name": "stdout",
     "text": [
      "Value stored is:  123   234\n",
      "Value stored is:  434   22\n",
      "Exiting thread with value: Exiting thread with value:   Node 1\n",
      "  Node 2\n"
     ]
    }
   ],
   "source": [
    "thread1 = MyThread(\" Node 1\", 123, 234)\n",
    "thread1.start()\n",
    "thread2 = MyThread(\" Node 2\", 434, 22)\n",
    "thread2.start()\n",
    "thread1.join()\n",
    "thread2.join()"
   ]
  },
  {
   "cell_type": "code",
   "execution_count": 3,
   "metadata": {},
   "outputs": [],
   "source": [
    "# import socket\n",
    "\n",
    "# HOST = '127.0.0.1'  # Standard loopback interface address (localhost)\n",
    "# PORT = 65432        # Port to listen on (non-privileged ports are > 1023)\n",
    "\n",
    "# with socket.socket(socket.AF_INET, socket.SOCK_STREAM) as s:\n",
    "#     s.bind((HOST, PORT))\n",
    "#     s.listen()\n",
    "#     conn, addr = s.accept()\n",
    "#     with conn:\n",
    "#         print('Connected by', addr)\n",
    "#         while True:\n",
    "#             data = conn.recv(1024)\n",
    "#             if not data:\n",
    "#                 break\n",
    "#             conn.sendall(data)"
   ]
  },
  {
   "cell_type": "code",
   "execution_count": 54,
   "metadata": {},
   "outputs": [
    {
     "output_type": "stream",
     "name": "stdout",
     "text": [
      "Received [1252, 2354, 1300]\n"
     ]
    }
   ],
   "source": [
    "import socket\n",
    "\n",
    "HOST = '127.0.0.1'  # The server's hostname or IP address\n",
    "PORT = 65432        # The port used by the server\n",
    "\n",
    "with socket.socket(socket.AF_INET, socket.SOCK_STREAM) as s:\n",
    "    s.connect((HOST, PORT))\n",
    "    # s.sendall(b'[231,123,234,234,22545,False]')\n",
    "    s.sendall(str([111,222,333,444,22545,False]).encode('utf-8'))\n",
    "    # s.sendall(b'Hello, world')\n",
    "    data = s.recv(1024)\n",
    "    dataToList = str(data).strip('b').strip(\"/'/'\").strip('[]').split(',')\n",
    "    ListToInt = map(int, dataToList)\n",
    "    print('Received', [x for x in ListToInt])"
   ]
  },
  {
   "cell_type": "code",
   "execution_count": 14,
   "metadata": {},
   "outputs": [
    {
     "output_type": "execute_result",
     "data": {
      "text/plain": [
       "<function _signal.default_int_handler>"
      ]
     },
     "metadata": {},
     "execution_count": 14
    }
   ],
   "source": [
    "import signal\n",
    "import sys\n",
    "def signal_handler(signal, frame):\n",
    "        # close the socket here\n",
    "        while True:\n",
    "            print('a')\n",
    "        sys.exit(0)\n",
    "signal.signal(signal.SIGINT, signal_handler)"
   ]
  },
  {
   "cell_type": "code",
   "execution_count": 52,
   "metadata": {},
   "outputs": [],
   "source": [
    "doc = str(b'[232.123.342]')"
   ]
  },
  {
   "cell_type": "code",
   "execution_count": 55,
   "metadata": {},
   "outputs": [
    {
     "output_type": "execute_result",
     "data": {
      "text/plain": [
       "<map at 0x2419089ddd8>"
      ]
     },
     "metadata": {},
     "execution_count": 55
    }
   ],
   "source": [
    "doc.strip('b').strip(\"/'/'\").strip('[]').split('.')"
   ]
  },
  {
   "cell_type": "code",
   "execution_count": 45,
   "metadata": {},
   "outputs": [],
   "source": [
    "class var:\n",
    "\n",
    "    def __init__(self, val):\n",
    "        self.nation = val\n",
    "        print(self.nation)\n",
    "    \n",
    "    def printing(self):\n",
    "        print(self.nation)\n",
    "\n",
    "class nation:\n",
    "\n",
    "    def __init__(self):\n",
    "        self.data = [2,3,4,5,6]\n",
    "        self.doc = var(self.data)\n",
    "    \n",
    "    def printResult(self):\n",
    "        self.data.append(34)"
   ]
  },
  {
   "cell_type": "code",
   "execution_count": 46,
   "metadata": {},
   "outputs": [
    {
     "output_type": "stream",
     "name": "stdout",
     "text": [
      "[2, 3, 4, 5, 6]\n[2, 3, 4, 5, 6, 34]\n"
     ]
    }
   ],
   "source": [
    "doc = nation()\n",
    "doc.printResult()\n",
    "doc.doc.printing()"
   ]
  },
  {
   "cell_type": "code",
   "execution_count": 72,
   "metadata": {},
   "outputs": [
    {
     "output_type": "stream",
     "name": "stdout",
     "text": [
      "[[2, 0], [3, 1], [4, 2], [5, 3], [1, 4], [3, 5]]\n[[1, 4], [2, 0], [3, 1], [3, 5], [4, 2], [5, 3]]\n"
     ]
    }
   ],
   "source": [
    "val = [[2,0],[3,1],[4,2],[5,3],[1,4],[3,5]]\n",
    "print(val)\n",
    "val.sort()\n",
    "print(val)"
   ]
  },
  {
   "cell_type": "code",
   "execution_count": 71,
   "metadata": {},
   "outputs": [
    {
     "output_type": "stream",
     "name": "stdout",
     "text": [
      "[2, 0, 1, 3, 4]\n"
     ]
    }
   ],
   "source": [
    "s = [2, 3, 1, 4, 5] \n",
    "li=[] \n",
    "  \n",
    "for i in range(len(s)): \n",
    "      li.append([s[i],i]) \n",
    "li.sort() \n",
    "sort_index = [] \n",
    "  \n",
    "for x in li: \n",
    "      sort_index.append(x[1]) \n",
    "  \n",
    "print(sort_index)"
   ]
  },
  {
   "cell_type": "code",
   "execution_count": null,
   "metadata": {},
   "outputs": [],
   "source": []
  }
 ]
}